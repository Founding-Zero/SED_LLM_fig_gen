{
 "cells": [
  {
   "cell_type": "code",
   "execution_count": 2,
   "metadata": {},
   "outputs": [
    {
     "name": "stdout",
     "output_type": "stream",
     "text": [
      "Requirement already satisfied: numpy in /Users/vincentwork/Documents/SED_LLM_Work/SED_LLM_fig_gen/.venv/lib/python3.11/site-packages (1.26.4)\n",
      "Requirement already satisfied: matplotlib in /Users/vincentwork/Documents/SED_LLM_Work/SED_LLM_fig_gen/.venv/lib/python3.11/site-packages (3.8.4)\n",
      "Requirement already satisfied: pandas in /Users/vincentwork/Documents/SED_LLM_Work/SED_LLM_fig_gen/.venv/lib/python3.11/site-packages (2.0.3)\n",
      "Requirement already satisfied: seaborn in /Users/vincentwork/Documents/SED_LLM_Work/SED_LLM_fig_gen/.venv/lib/python3.11/site-packages (0.13.2)\n",
      "Requirement already satisfied: contourpy>=1.0.1 in /Users/vincentwork/Documents/SED_LLM_Work/SED_LLM_fig_gen/.venv/lib/python3.11/site-packages (from matplotlib) (1.2.1)\n",
      "Requirement already satisfied: cycler>=0.10 in /Users/vincentwork/Documents/SED_LLM_Work/SED_LLM_fig_gen/.venv/lib/python3.11/site-packages (from matplotlib) (0.12.1)\n",
      "Requirement already satisfied: fonttools>=4.22.0 in /Users/vincentwork/Documents/SED_LLM_Work/SED_LLM_fig_gen/.venv/lib/python3.11/site-packages (from matplotlib) (4.51.0)\n",
      "Requirement already satisfied: kiwisolver>=1.3.1 in /Users/vincentwork/Documents/SED_LLM_Work/SED_LLM_fig_gen/.venv/lib/python3.11/site-packages (from matplotlib) (1.4.5)\n",
      "Requirement already satisfied: packaging>=20.0 in /Users/vincentwork/Documents/SED_LLM_Work/SED_LLM_fig_gen/.venv/lib/python3.11/site-packages (from matplotlib) (24.0)\n",
      "Requirement already satisfied: pillow>=8 in /Users/vincentwork/Documents/SED_LLM_Work/SED_LLM_fig_gen/.venv/lib/python3.11/site-packages (from matplotlib) (10.3.0)\n",
      "Requirement already satisfied: pyparsing>=2.3.1 in /Users/vincentwork/Documents/SED_LLM_Work/SED_LLM_fig_gen/.venv/lib/python3.11/site-packages (from matplotlib) (3.1.2)\n",
      "Requirement already satisfied: python-dateutil>=2.7 in /Users/vincentwork/Documents/SED_LLM_Work/SED_LLM_fig_gen/.venv/lib/python3.11/site-packages (from matplotlib) (2.9.0.post0)\n",
      "Requirement already satisfied: pytz>=2020.1 in /Users/vincentwork/Documents/SED_LLM_Work/SED_LLM_fig_gen/.venv/lib/python3.11/site-packages (from pandas) (2024.1)\n",
      "Requirement already satisfied: tzdata>=2022.1 in /Users/vincentwork/Documents/SED_LLM_Work/SED_LLM_fig_gen/.venv/lib/python3.11/site-packages (from pandas) (2024.1)\n",
      "Requirement already satisfied: six>=1.5 in /Users/vincentwork/Documents/SED_LLM_Work/SED_LLM_fig_gen/.venv/lib/python3.11/site-packages (from python-dateutil>=2.7->matplotlib) (1.16.0)\n",
      "Note: you may need to restart the kernel to use updated packages.\n"
     ]
    }
   ],
   "source": [
    "%pip install numpy matplotlib pandas seaborn"
   ]
  },
  {
   "cell_type": "code",
   "execution_count": 6,
   "metadata": {},
   "outputs": [
    {
     "name": "stdout",
     "output_type": "stream",
     "text": [
      "    principal_final/returns  principal_final/principal_step\n",
      "0                 16.742859                              20\n",
      "1                 48.014336                              40\n",
      "2                 27.128559                              60\n",
      "3                 32.628590                              80\n",
      "4                 36.657146                             100\n",
      "5                 46.400009                             120\n",
      "6                 31.985712                             140\n",
      "7                 45.885624                             160\n",
      "8                 38.971428                             180\n",
      "9                 41.514206                             200\n",
      "10                37.857105                             220\n",
      "11                44.514183                             240\n",
      "12                33.600014                             260\n",
      "13                39.657082                             280\n",
      "14                45.457039                             300\n",
      "15                43.271370                             320\n",
      "16                44.042751                             340\n",
      "17                42.471344                             360\n",
      "18                44.885612                             380\n",
      "19                47.028461                             400\n",
      "20                45.599895                             420\n",
      "21                54.871559                             440\n",
      "22                50.342724                             460\n",
      "23                46.642750                             480\n"
     ]
    }
   ],
   "source": [
    "import numpy as np\n",
    "import pandas as pd\n",
    "import matplotlib.pyplot as plt\n",
    "import seaborn as sns\n",
    "\n",
    "df = pd.read_csv(\"/Users/vincentwork/Documents/SED_LLM_Work/SED_LLM_fig_gen/figgen/pulled_data/jumping-pond-142/csv_dataframe.csv\")\n",
    "# df.dropna(how='all', inplace=True)\n",
    "print(df)"
   ]
  }
 ],
 "metadata": {
  "kernelspec": {
   "display_name": ".venv",
   "language": "python",
   "name": "python3"
  },
  "language_info": {
   "codemirror_mode": {
    "name": "ipython",
    "version": 3
   },
   "file_extension": ".py",
   "mimetype": "text/x-python",
   "name": "python",
   "nbconvert_exporter": "python",
   "pygments_lexer": "ipython3",
   "version": "3.11.9"
  }
 },
 "nbformat": 4,
 "nbformat_minor": 2
}
