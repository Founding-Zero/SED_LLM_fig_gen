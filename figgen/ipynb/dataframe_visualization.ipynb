{
 "cells": [
  {
   "cell_type": "code",
   "execution_count": 1,
   "metadata": {},
   "outputs": [
    {
     "name": "stdout",
     "output_type": "stream",
     "text": [
      "Requirement already satisfied: numpy in /Users/vincentwork/Documents/SED_LLM_Work/SED_LLM_fig_gen/.venv/lib/python3.11/site-packages (1.26.4)\n",
      "Requirement already satisfied: matplotlib in /Users/vincentwork/Documents/SED_LLM_Work/SED_LLM_fig_gen/.venv/lib/python3.11/site-packages (3.8.4)\n",
      "Requirement already satisfied: pandas in /Users/vincentwork/Documents/SED_LLM_Work/SED_LLM_fig_gen/.venv/lib/python3.11/site-packages (2.0.3)\n",
      "Requirement already satisfied: seaborn in /Users/vincentwork/Documents/SED_LLM_Work/SED_LLM_fig_gen/.venv/lib/python3.11/site-packages (0.13.2)\n",
      "Requirement already satisfied: contourpy>=1.0.1 in /Users/vincentwork/Documents/SED_LLM_Work/SED_LLM_fig_gen/.venv/lib/python3.11/site-packages (from matplotlib) (1.2.1)\n",
      "Requirement already satisfied: cycler>=0.10 in /Users/vincentwork/Documents/SED_LLM_Work/SED_LLM_fig_gen/.venv/lib/python3.11/site-packages (from matplotlib) (0.12.1)\n",
      "Requirement already satisfied: fonttools>=4.22.0 in /Users/vincentwork/Documents/SED_LLM_Work/SED_LLM_fig_gen/.venv/lib/python3.11/site-packages (from matplotlib) (4.51.0)\n",
      "Requirement already satisfied: kiwisolver>=1.3.1 in /Users/vincentwork/Documents/SED_LLM_Work/SED_LLM_fig_gen/.venv/lib/python3.11/site-packages (from matplotlib) (1.4.5)\n",
      "Requirement already satisfied: packaging>=20.0 in /Users/vincentwork/Documents/SED_LLM_Work/SED_LLM_fig_gen/.venv/lib/python3.11/site-packages (from matplotlib) (24.0)\n",
      "Requirement already satisfied: pillow>=8 in /Users/vincentwork/Documents/SED_LLM_Work/SED_LLM_fig_gen/.venv/lib/python3.11/site-packages (from matplotlib) (10.3.0)\n",
      "Requirement already satisfied: pyparsing>=2.3.1 in /Users/vincentwork/Documents/SED_LLM_Work/SED_LLM_fig_gen/.venv/lib/python3.11/site-packages (from matplotlib) (3.1.2)\n",
      "Requirement already satisfied: python-dateutil>=2.7 in /Users/vincentwork/Documents/SED_LLM_Work/SED_LLM_fig_gen/.venv/lib/python3.11/site-packages (from matplotlib) (2.9.0.post0)\n",
      "Requirement already satisfied: pytz>=2020.1 in /Users/vincentwork/Documents/SED_LLM_Work/SED_LLM_fig_gen/.venv/lib/python3.11/site-packages (from pandas) (2024.1)\n",
      "Requirement already satisfied: tzdata>=2022.1 in /Users/vincentwork/Documents/SED_LLM_Work/SED_LLM_fig_gen/.venv/lib/python3.11/site-packages (from pandas) (2024.1)\n",
      "Requirement already satisfied: six>=1.5 in /Users/vincentwork/Documents/SED_LLM_Work/SED_LLM_fig_gen/.venv/lib/python3.11/site-packages (from python-dateutil>=2.7->matplotlib) (1.16.0)\n",
      "Note: you may need to restart the kernel to use updated packages.\n"
     ]
    }
   ],
   "source": [
    "%pip install numpy matplotlib pandas seaborn"
   ]
  },
  {
   "cell_type": "code",
   "execution_count": 4,
   "metadata": {},
   "outputs": [
    {
     "name": "stdout",
     "output_type": "stream",
     "text": [
      "     combined_val_train/step  principal_final/std  principal_final/returns  \\\n",
      "4                        1.0                  NaN                      NaN   \n",
      "9                        2.0                  NaN                      NaN   \n",
      "14                       3.0                  NaN                      NaN   \n",
      "19                       4.0                  NaN                      NaN   \n",
      "24                       5.0                  NaN                      NaN   \n",
      "..                       ...                  ...                      ...   \n",
      "303                    100.0                  NaN                      NaN   \n",
      "304                    100.0             4.175456                23.728565   \n",
      "309                    101.0                  NaN                      NaN   \n",
      "314                    102.0                  NaN                      NaN   \n",
      "319                    103.0                  NaN                      NaN   \n",
      "\n",
      "     principal_final/game 0 tax bracket 3  principal_final/principal_episode  \\\n",
      "4                                     NaN                                NaN   \n",
      "9                                     NaN                                NaN   \n",
      "14                                    NaN                                NaN   \n",
      "19                                    NaN                                NaN   \n",
      "24                                    NaN                                NaN   \n",
      "..                                    ...                                ...   \n",
      "303                                   NaN                                NaN   \n",
      "304                                   0.6                                5.0   \n",
      "309                                   NaN                                NaN   \n",
      "314                                   NaN                                NaN   \n",
      "319                                   NaN                                NaN   \n",
      "\n",
      "     principal_final/game 0 tax bracket 2  \\\n",
      "4                                     NaN   \n",
      "9                                     NaN   \n",
      "14                                    NaN   \n",
      "19                                    NaN   \n",
      "24                                    NaN   \n",
      "..                                    ...   \n",
      "303                                   NaN   \n",
      "304                                   0.4   \n",
      "309                                   NaN   \n",
      "314                                   NaN   \n",
      "319                                   NaN   \n",
      "\n",
      "     principal_final/game 0 tax bracket 1  \n",
      "4                                     NaN  \n",
      "9                                     NaN  \n",
      "14                                    NaN  \n",
      "19                                    NaN  \n",
      "24                                    NaN  \n",
      "..                                    ...  \n",
      "303                                   NaN  \n",
      "304                                   0.2  \n",
      "309                                   NaN  \n",
      "314                                   NaN  \n",
      "319                                   NaN  \n",
      "\n",
      "[108 rows x 7 columns]\n"
     ]
    }
   ],
   "source": [
    "import numpy as np\n",
    "import pandas as pd\n",
    "import matplotlib.pyplot as plt\n",
    "import seaborn as sns\n",
    "\n",
    "df = pd.read_csv('/Users/vincentwork/Documents/SED_LLM_Work/SED_LLM_fig_gen/figgen/principal_final.csv')\n",
    "df.dropna(how='all', inplace=True)\n",
    "print(df)"
   ]
  }
 ],
 "metadata": {
  "kernelspec": {
   "display_name": ".venv",
   "language": "python",
   "name": "python3"
  },
  "language_info": {
   "codemirror_mode": {
    "name": "ipython",
    "version": 3
   },
   "file_extension": ".py",
   "mimetype": "text/x-python",
   "name": "python",
   "nbconvert_exporter": "python",
   "pygments_lexer": "ipython3",
   "version": "3.11.9"
  }
 },
 "nbformat": 4,
 "nbformat_minor": 2
}
